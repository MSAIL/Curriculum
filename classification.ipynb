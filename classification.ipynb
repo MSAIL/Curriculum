{
 "cells": [
  {
   "cell_type": "markdown",
   "metadata": {
    "slideshow": {
     "slide_type": "slide"
    }
   },
   "source": [
    "# MSAIL Tutorial Series"
   ]
  },
  {
   "cell_type": "markdown",
   "metadata": {
    "slideshow": {
     "slide_type": "fragment"
    }
   },
   "source": [
    "## Classification"
   ]
  },
  {
   "cell_type": "markdown",
   "metadata": {
    "slideshow": {
     "slide_type": "slide"
    }
   },
   "source": [
    "### Kaggle Intro and Outline\n",
    "\n",
    "We will be working through the following [Kaggle competition](https://www.kaggle.com/c/titanic) to learn about various classification algorithms."
   ]
  },
  {
   "cell_type": "markdown",
   "metadata": {
    "slideshow": {
     "slide_type": "slide"
    }
   },
   "source": [
    "First we import the necessary libraries:\n",
    "* pandas for parsing the csv file\n",
    "* numpy for math and arrays\n",
    "* scipy for more scientific computing\n",
    "* matplotlib for generating visualizations"
   ]
  },
  {
   "cell_type": "code",
   "execution_count": 2,
   "metadata": {
    "collapsed": false,
    "slideshow": {
     "slide_type": "fragment"
    }
   },
   "outputs": [],
   "source": [
    "import pandas as pd\n",
    "import numpy as np\n",
    "import scipy as sp\n",
    "from scipy import special\n",
    "\n",
    "%matplotlib inline\n",
    "import matplotlib\n",
    "import matplotlib.pyplot as plt"
   ]
  },
  {
   "cell_type": "markdown",
   "metadata": {
    "slideshow": {
     "slide_type": "slide"
    }
   },
   "source": [
    "Read the training data into a pandas dataframe"
   ]
  },
  {
   "cell_type": "code",
   "execution_count": 28,
   "metadata": {
    "collapsed": false,
    "slideshow": {
     "slide_type": "fragment"
    }
   },
   "outputs": [
    {
     "name": "stdout",
     "output_type": "stream",
     "text": [
      "PassengerId      int64\n",
      "Survived         int64\n",
      "Pclass           int64\n",
      "Name            object\n",
      "Sex             object\n",
      "Age            float64\n",
      "SibSp            int64\n",
      "Parch            int64\n",
      "Ticket          object\n",
      "Fare           float64\n",
      "Cabin           object\n",
      "Embarked        object\n",
      "dtype: object\n"
     ]
    }
   ],
   "source": [
    "df = pd.read_csv('train.csv', header=0)\n",
    "print df.dtypes"
   ]
  },
  {
   "cell_type": "markdown",
   "metadata": {
    "slideshow": {
     "slide_type": "slide"
    }
   },
   "source": [
    "Assign numerical values for gender"
   ]
  },
  {
   "cell_type": "code",
   "execution_count": 29,
   "metadata": {
    "collapsed": false,
    "slideshow": {
     "slide_type": "fragment"
    }
   },
   "outputs": [],
   "source": [
    "df['Gender'] = df['Sex'].map( {'female': 0, 'male': 1} ).astype(int)"
   ]
  },
  {
   "cell_type": "markdown",
   "metadata": {
    "slideshow": {
     "slide_type": "slide"
    }
   },
   "source": [
    "Clean the age data by replacing NaN with median given gender/class"
   ]
  },
  {
   "cell_type": "code",
   "execution_count": 30,
   "metadata": {
    "collapsed": false,
    "slideshow": {
     "slide_type": "fragment"
    }
   },
   "outputs": [],
   "source": [
    "median_ages = np.zeros((2, 3))\n",
    "for i in range(0, 2):\n",
    "    for j in range (0, 3):\n",
    "        median_ages[i, j] = df[(df['Gender'] == i) & (df['Pclass'] == j+1)]['Age'].dropna().median()\n",
    "\n",
    "df['AgeFill'] = df['Age']\n",
    "        \n",
    "for i in range(0, 2):\n",
    "    for j in range(0, 3):\n",
    "        df.loc[(df.Age.isnull()) & (df.Gender == i) & (df.Pclass == j+1), 'AgeFill'] = median_ages[i, j]\n",
    "\n",
    "df['AgeIsNull'] = pd.isnull(df.Age).astype(int)"
   ]
  },
  {
   "cell_type": "markdown",
   "metadata": {
    "slideshow": {
     "slide_type": "slide"
    }
   },
   "source": [
    "Construct the data matrix, x, using class, gender, and age, and ticket price. And split the data into train and test sets"
   ]
  },
  {
   "cell_type": "code",
   "execution_count": 31,
   "metadata": {
    "collapsed": false,
    "slideshow": {
     "slide_type": "fragment"
    }
   },
   "outputs": [],
   "source": [
    "x = np.array(df[['Pclass', 'Gender', 'AgeFill', 'Fare']])\n",
    "y = np.array(df['Survived'])\n",
    "\n",
    "num_train = 850\n",
    "\n",
    "xtrain = x[0:num_train]\n",
    "ytrain = y[0:num_train]\n",
    "\n",
    "xtest = x[num_train:]\n",
    "ytest = y[num_train:]"
   ]
  },
  {
   "cell_type": "markdown",
   "metadata": {
    "slideshow": {
     "slide_type": "slide"
    }
   },
   "source": [
    "Define a function that:\n",
    "* takes a model\n",
    "* trains it\n",
    "* uses it to perform classification on the test set"
   ]
  },
  {
   "cell_type": "code",
   "execution_count": 32,
   "metadata": {
    "collapsed": true,
    "slideshow": {
     "slide_type": "fragment"
    }
   },
   "outputs": [],
   "source": [
    "def train_and_test(model, xtrain, ytrain, xtest, ytest):\n",
    "    model = model.fit(xtrain, ytrain)\n",
    "    output = model.predict(xtest)\n",
    "    print (1.0 * sum([i==j for (i, j) in zip(output, ytest)])) / len(ytest)"
   ]
  },
  {
   "cell_type": "markdown",
   "metadata": {
    "collapsed": true,
    "slideshow": {
     "slide_type": "slide"
    }
   },
   "source": [
    "Define some classification models and get some results!"
   ]
  },
  {
   "cell_type": "code",
   "execution_count": 34,
   "metadata": {
    "collapsed": false,
    "slideshow": {
     "slide_type": "fragment"
    }
   },
   "outputs": [
    {
     "name": "stdout",
     "output_type": "stream",
     "text": [
      "0.780487804878\n"
     ]
    }
   ],
   "source": [
    "import sklearn.linear_model\n",
    "model = sklearn.linear_model.LogisticRegression()\n",
    "train_and_test(model, xtrain, ytrain, xtest, ytest)"
   ]
  },
  {
   "cell_type": "markdown",
   "metadata": {
    "collapsed": false,
    "slideshow": {
     "slide_type": "slide"
    }
   },
   "source": [
    "### Logistic Regression\n",
    "\n",
    "Logistic regression is used for binary classification tasks. It processes a dataset $D = \\{(x_1,t_1),\\dots,(x_n,t_n)\\}$, where $t_i\\in\\{0,1\\}$ and the feature vector of the $i$th example is $\\phi(x_i)\\in\\mathbb{R}^M$.\n",
    "\n",
    "Logistic regression forms a probabilistic model. It estimates probability distributions of the two classes $p(t=1|x;w)$ and $p(t=0|x;w)$. It fits its paramaters $w\\in\\mathbb{R}^M$ to the training data by MLE, ie finds the $w$ that maximizes the probability of the training data."
   ]
  },
  {
   "cell_type": "markdown",
   "metadata": {
    "slideshow": {
     "slide_type": "slide"
    }
   },
   "source": [
    "__Logistic Model__\n",
    "\n",
    "Given features for an example, $\\phi(x)$, logistic regression models the probability of this example belonging to the class 1 as:\n",
    "\n",
    "$$p(t=1|x;w) = \\sigma(w^T\\phi(x))$$\n",
    "\n",
    "and defines the probability of the example belonging to the class 0 as:\n",
    "\n",
    "$$\n",
    "\\begin{eqnarray}\n",
    "p(t=0|x;w) &=& 1 - p(t=1|x;w) \\nonumber\\\\\n",
    "&=& 1 - \\sigma(w^T\\phi(x)) \\nonumber\n",
    "\\end{eqnarray}\n",
    "$$\n",
    "\n",
    "where $\\sigma(a)$ is the sigmoid function, which is defined as:\n",
    "\n",
    "$$\\sigma(a) = \\frac{1}{1+e^{-a}}$$"
   ]
  },
  {
   "cell_type": "code",
   "execution_count": 3,
   "metadata": {
    "collapsed": false,
    "slideshow": {
     "slide_type": "slide"
    }
   },
   "outputs": [
    {
     "data": {
      "text/plain": [
       "[<matplotlib.lines.Line2D at 0x106e871d0>]"
      ]
     },
     "execution_count": 3,
     "metadata": {},
     "output_type": "execute_result"
    },
    {
     "data": {
      "image/png": "[encoded data removed]",
      "text/plain": [
       "<matplotlib.figure.Figure at 0x106dd8350>"
      ]
     },
     "metadata": {},
     "output_type": "display_data"
    }
   ],
   "source": [
    "xaxis = np.arange(-10, 10, 0.2)\n",
    "yaxis = sp.special.expit(xaxis)\n",
    "plt.plot(xaxis, yaxis)"
   ]
  },
  {
   "cell_type": "markdown",
   "metadata": {
    "slideshow": {
     "slide_type": "slide"
    }
   },
   "source": [
    "__Maximum Likelihood Estimation__\n",
    "\n",
    "The likelihood function $L(w)$ is defined as the probability that the current $w$ assigns to the training set:\n",
    "\n",
    "$$L(w) = \\prod_{i=1}^Np(t_i|x_i;w)$$\n",
    "\n",
    "We have two separate terms for the probability distributions of the two classes, so we combine these two terms into one like:\n",
    "\n",
    "$$p(t_i|x_i;w) = p(t=1|x_i;w)^{t_i}p(t=0|x_i;w)^{1-t_i}$$\n",
    "\n",
    "Logistic regression tries to find the $w$ that maximizes the likelihood $L(w)$, which is the same $w$ that maximizes the log-likelihood $l(w) = \\log{L(w)}$.\n",
    "\n",
    "$$\n",
    "\\begin{eqnarray}\n",
    "\\arg{\\max{L(w)}} &=& \\arg{\\max{\\log{L(w)}}} \\nonumber\\\\\n",
    "&=& \\arg{\\max{l(w)}} \\nonumber\\\\\n",
    "\\nabla_wl(w) &=& \\sum_{i=1}^{N}(t^i - \\sigma(w^Tx_i))x^i \\nonumber\n",
    "\\end{eqnarray}\n",
    "$$"
   ]
  },
  {
   "cell_type": "markdown",
   "metadata": {},
   "source": [
    "### SGD (Stochastic Gradient Descent)\n",
    "\n",
    "We are currently calling scikit-learn's `.fit` method to train our model. Let us examine how this actually works.\n",
    "\n",
    "<img src=\"https://upload.wikimedia.org/wikipedia/commons/f/ff/Gradient_descent.svg\" height=\"200\" width=\"200\">\n",
    "\n",
    "__Gradient descent/ascent__\n",
    "* _descent_: find local minimum of function by taking steps proportional to the _negative_ of the gradient of the function at the current point\n",
    "* _ascent_: find local maximum of function by taking steps proportional to the _positive_ of the gradient of the function at the current point\n",
    "\n",
    "__Pseudocode__\n",
    "```\n",
    "n = learning rate\n",
    "x = random\n",
    "repeat\n",
    "    x = x ± n * f'(x)\n",
    "until convergence\n",
    "return x\n",
    "```\n",
    "\n",
    "We repeatedly run through the training set and for each example, we update the parameters according to the gradient of the function with respect to that single example only."
   ]
  },
  {
   "cell_type": "markdown",
   "metadata": {
    "slideshow": {
     "slide_type": "slide"
    }
   },
   "source": [
    "### SVM (Support Vector Machine)\n",
    "\n",
    "SVM is another discriminative model for classification. Although we are able to develop SVMs that do $K$ class classifications (similar to how logistic regression can be extended to multiclass classification ie softmax), we will restrict ourselves to binary classification in this formulation, where the class label is either +1 (positive) or -1 (negative). SVM is not a probabilistic algorithm; it does not optimize a probability measure as a likelihood, as we did in logistic regression. SVM tries to find the ***hyperplane that maximally separates the positive class from the negative class***.\n",
    "\n",
    "<img src=\"https://upload.wikimedia.org/wikipedia/commons/b/b5/Svm_separating_hyperplanes_%28SVG%29.svg \" height=\"200\" width=\"200\">\n",
    "\n",
    "Let us now formulate the optimization problem for SVM. The decision boundry is the hyperplane $w^T\\phi(x) + b = 0$. Now the linear discriminant function $y(x) = w^T\\phi(x) + b$ with the maximum margin is a good classifier. Margin is the width that the boundry can be increased before hitting a data point. The maximum margin is good because this will be most robust to outliers and thus has strong generalization ability.\n",
    "\n",
    "Remember the distance from a point $(x_1^*,x_2^*)$ to a line $a^Tx + b = 0$ in $\\mathbb{R}^2$ is:\n",
    "$$\n",
    "\\frac{a_1x_1^* + a_2x_2^* + b}{\\sqrt{a_1^2 + a_2^2}}\n",
    "$$\n",
    "\n",
    "We can extend this for our maximum margin classifier so the distance from a $\\phi(x)$ to the hyperplane $w^T\\phi(x) + b = 0$ is:\n",
    "$$\n",
    "\\frac{t(w^T\\phi(x) + b)}{||w||}\n",
    "$$\n",
    "\n",
    "So now the margin is:\n",
    "$$\n",
    "\\min_n\\frac{t_n(w^T\\phi(x_n) + b)}{||w||}\n",
    "$$\n",
    "where $n$ is the number of training examples.\n",
    "\n",
    "Our optimization problem then becomes:\n",
    "$$\n",
    "\\arg\\max_{w,b}\\frac{1}{||w||}\\min_n[t_n(w^T\\phi(x_n) + b)]\n",
    "$$\n",
    "which is saying that we would like to maximize the distance of the hyperplane from the closest \"support vectors\".\n",
    "\n",
    "Now we can rescale $w$ and $b$ since the scaling factor will cancel when dividing by $||w||$. So, the support vectors will be along $w^T\\phi(x) + b = \\pm1$.\n",
    "<img src=\"https://upload.wikimedia.org/wikipedia/commons/2/2a/Svm_max_sep_hyperplane_with_margin.png \" height=\"200\" width=\"200\">\n",
    "\n",
    "Our optimization problem then becomes:\n",
    "$$\n",
    "\\begin{equation*}\n",
    "\\begin{aligned}\n",
    "& \\underset{w, b}{\\text{minimize}}\n",
    "& & \\arg\\min_{w,b}\\frac{1}{2}||w||^2 \\\\\n",
    "& \\text{subject to}\n",
    "& & t_n(w^T\\phi(x_n) + b) \\geq 1, \\; n = 1, \\ldots, N.\n",
    "\\end{aligned}\n",
    "\\end{equation*}\n",
    "$$\n",
    "since maximizing $\\frac{1}{||w||}$ is the same as minimizing $||w||^2$, and the $\\frac{1}{2}$ is for convenience.\n",
    "\n",
    "\n",
    "\n",
    "\n",
    "Always cool to look up research papers!\n",
    "http://research.microsoft.com/pubs/68541/dagsvm.pdf\n",
    "This one is especially cool since mixing DAGs and SVMs is a great way for companies to assess a candidate's competency with both core algorithms as well as ML algos!"
   ]
  },
  {
   "cell_type": "code",
   "execution_count": 35,
   "metadata": {
    "collapsed": false
   },
   "outputs": [
    {
     "name": "stdout",
     "output_type": "stream",
     "text": [
      "0.731707317073\n"
     ]
    }
   ],
   "source": [
    "import sklearn.svm\n",
    "model = sklearn.svm.SVC(kernel=\"rbf\")\n",
    "train_and_test(model, xtrain, ytrain, xtest, ytest)"
   ]
  },
  {
   "cell_type": "markdown",
   "metadata": {},
   "source": [
    "### Random Forests"
   ]
  },
  {
   "cell_type": "code",
   "execution_count": 36,
   "metadata": {
    "collapsed": false
   },
   "outputs": [
    {
     "name": "stdout",
     "output_type": "stream",
     "text": [
      "0.90243902439\n"
     ]
    }
   ],
   "source": [
    "import sklearn.ensemble\n",
    "model = sklearn.ensemble.RandomForestClassifier(n_estimators=100)\n",
    "train_and_test(model, xtrain, ytrain, xtest, ytest)"
   ]
  },
  {
   "cell_type": "code",
   "execution_count": 37,
   "metadata": {
    "collapsed": false
   },
   "outputs": [],
   "source": [
    "import csv\n",
    "df = pd.read_csv('test.csv', header=0)\n",
    "\n",
    "df['Gender'] = df['Sex'].map( {'female': 0, 'male': 1} ).astype(int)\n",
    "\n",
    "median_ages = np.zeros((2, 3))\n",
    "for i in range(0, 2):\n",
    "    for j in range (0, 3):\n",
    "        median_ages[i, j] = df[(df['Gender'] == i) & (df['Pclass'] == j+1)]['Age'].dropna().median()\n",
    "\n",
    "df['AgeFill'] = df['Age']\n",
    "        \n",
    "for i in range(0, 2):\n",
    "    for j in range(0, 3):\n",
    "        df.loc[(df.Age.isnull()) & (df.Gender == i) & (df.Pclass == j+1), 'AgeFill'] = median_ages[i, j]\n",
    "\n",
    "df['AgeIsNull'] = pd.isnull(df.Age).astype(int)\n",
    "\n",
    "data = np.array(df[['PassengerId', 'Pclass', 'Gender', 'AgeFill', 'Fare']])\n",
    "\n",
    "with open(\"randomforestbasedmodel.csv\", \"wb\") as pf:\n",
    "    predictions = csv.writer(pf, delimiter=',')\n",
    "    predictions.writerow([\"PassengerId\", \"Survived\"])\n",
    "    for example in data:\n",
    "        example = np.nan_to_num(example)\n",
    "        predictions.writerow([str(example[0].astype(int)), str(model.predict(example[1:])[0])])"
   ]
  },
  {
   "cell_type": "code",
   "execution_count": null,
   "metadata": {
    "collapsed": true
   },
   "outputs": [],
   "source": []
  },
  {
   "cell_type": "code",
   "execution_count": null,
   "metadata": {
    "collapsed": true
   },
   "outputs": [],
   "source": []
  },
  {
   "cell_type": "code",
   "execution_count": null,
   "metadata": {
    "collapsed": true
   },
   "outputs": [],
   "source": []
  }
 ],
 "metadata": {
  "celltoolbar": "Slideshow",
  "kernelspec": {
   "display_name": "Python 2",
   "language": "python",
   "name": "python2"
  },
  "language_info": {
   "codemirror_mode": {
    "name": "ipython",
    "version": 2
   },
   "file_extension": ".py",
   "mimetype": "text/x-python",
   "name": "python",
   "nbconvert_exporter": "python",
   "pygments_lexer": "ipython2",
   "version": "2.7.10"
  }
 },
 "nbformat": 4,
 "nbformat_minor": 0
}
