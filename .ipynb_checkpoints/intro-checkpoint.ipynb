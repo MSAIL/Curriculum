{
 "cells": [
  {
   "cell_type": "markdown",
   "metadata": {
    "slideshow": {
     "slide_type": "slide"
    }
   },
   "source": [
    "# MSAIL Curriculum"
   ]
  },
  {
   "cell_type": "markdown",
   "metadata": {
    "slideshow": {
     "slide_type": "fragment"
    }
   },
   "source": [
    "## Introduction"
   ]
  },
  {
   "cell_type": "markdown",
   "metadata": {
    "slideshow": {
     "slide_type": "slide"
    }
   },
   "source": [
    "### Some Definitions"
   ]
  },
  {
   "cell_type": "markdown",
   "metadata": {
    "slideshow": {
     "slide_type": "subslide"
    }
   },
   "source": [
    "__Artificial Intelligence__\n",
    "* _definition_: the theory and development of computer systems able to perform tasks that normally require human intelligence\n",
    "* _examples_:\n",
    "    * search algorithms\n",
    "    * constraint satisfaction problems\n",
    "    * logic\n",
    "    * planning\n",
    "    * machine learning"
   ]
  },
  {
   "cell_type": "markdown",
   "metadata": {
    "slideshow": {
     "slide_type": "subslide"
    }
   },
   "source": [
    "__Machine Learning__\n",
    "* _informal definition_: Algorithms that improve their prediction performance at some task with experience (or data).\n",
    "* ***insert picture here***"
   ]
  },
  {
   "cell_type": "markdown",
   "metadata": {
    "slideshow": {
     "slide_type": "slide"
    }
   },
   "source": [
    "### Categories of ML Algorithms"
   ]
  },
  {
   "cell_type": "markdown",
   "metadata": {
    "slideshow": {
     "slide_type": "subslide"
    }
   },
   "source": [
    "__Supervised Learning__\n",
    "* _goal_: given the data X in some feature space and the labels Y, learn to predict Y from X\n",
    "* regression\n",
    "* classification"
   ]
  },
  {
   "cell_type": "markdown",
   "metadata": {
    "collapsed": true,
    "slideshow": {
     "slide_type": "subslide"
    }
   },
   "source": [
    "__Unsupervised Learning__\n",
    "* _goal_: given the data X without any labels, learn the _structures_ of the data\n",
    "* clustering\n",
    "* component analysis"
   ]
  },
  {
   "cell_type": "markdown",
   "metadata": {
    "collapsed": true,
    "slideshow": {
     "slide_type": "subslide"
    }
   },
   "source": [
    "__Reinforcement Learning__\n",
    "* _setting_: given a sequence of states X and \"rewards\", agent has to take actions A for each time step\n",
    "* _goal_: how to \"learn to act\" or \"making decisions\" to maximize the sum of future rewards"
   ]
  },
  {
   "cell_type": "markdown",
   "metadata": {
    "slideshow": {
     "slide_type": "slide"
    }
   },
   "source": [
    "### Development Environment"
   ]
  },
  {
   "cell_type": "markdown",
   "metadata": {
    "slideshow": {
     "slide_type": "subslide"
    }
   },
   "source": [
    "__IPython Notebooks__\n",
    "* http://continuum.io/downloads\n",
    "* Anaconda is really nice because it comes with a bunch of commonly used Python packages for data science all bundled together"
   ]
  },
  {
   "cell_type": "markdown",
   "metadata": {
    "slideshow": {
     "slide_type": "subslide"
    }
   },
   "source": [
    "__Kaggle__\n",
    "* https://www.kaggle.com/c/titanic\n",
    "* Go ahead and make an account on Kaggle\n",
    "* Download the datasets (train.csv and test.csv) for the Titantic competition\n",
    "* Place the datasets in some directory where you would like to work on MSAIL stuff from"
   ]
  },
  {
   "cell_type": "markdown",
   "metadata": {
    "slideshow": {
     "slide_type": "subslide"
    }
   },
   "source": [
    "__MSAIL Curriculum__\n",
    "* https://github.com/MSAIL/Curriculum\n",
    "* Start by downloading this IPython notebook, start up Anaconda, and opening this intro.ipynb"
   ]
  },
  {
   "cell_type": "code",
   "execution_count": 1,
   "metadata": {
    "collapsed": true,
    "slideshow": {
     "slide_type": "slide"
    }
   },
   "outputs": [],
   "source": [
    "import csv as csv\n",
    "import numpy as np"
   ]
  },
  {
   "cell_type": "code",
   "execution_count": 2,
   "metadata": {
    "collapsed": false,
    "slideshow": {
     "slide_type": "slide"
    }
   },
   "outputs": [],
   "source": [
    "with open('train.csv', 'rb') as tf:\n",
    "    csv_file_object = csv.reader(tf, delimiter=',')\n",
    "    header = csv_file_object.next()\n",
    "    data=[]\n",
    "    for row in csv_file_object:\n",
    "        data.append(row)\n",
    "    data = np.array(data)"
   ]
  },
  {
   "cell_type": "code",
   "execution_count": 3,
   "metadata": {
    "collapsed": false,
    "slideshow": {
     "slide_type": "slide"
    }
   },
   "outputs": [],
   "source": [
    "with open('train.csv', 'rb') as tf:\n",
    "    csv_file_object = csv.reader(tf, delimiter=',')\n",
    "    header = csv_file_object.next()\n",
    "    data = np.array([row for row in csv_file_object])"
   ]
  },
  {
   "cell_type": "code",
   "execution_count": 4,
   "metadata": {
    "collapsed": false,
    "slideshow": {
     "slide_type": "slide"
    }
   },
   "outputs": [
    {
     "name": "stdout",
     "output_type": "stream",
     "text": [
      "['1' '0' '3' 'Braund, Mr. Owen Harris' 'male' '22' '1' '0' 'A/5 21171'\n",
      " '7.25' '' 'S']\n",
      "['891' '0' '3' 'Dooley, Mr. Patrick' 'male' '32' '0' '0' '370376' '7.75' ''\n",
      " 'Q']\n"
     ]
    }
   ],
   "source": [
    "print data[0]\n",
    "print data[-1]"
   ]
  },
  {
   "cell_type": "code",
   "execution_count": 5,
   "metadata": {
    "collapsed": true,
    "slideshow": {
     "slide_type": "slide"
    }
   },
   "outputs": [],
   "source": [
    "number_passengers = np.size(data[0::,1].astype(np.float))\n",
    "number_survived = np.sum(data[0::,1].astype(np.float))\n",
    "proportion_survivors = number_survived / number_passengers"
   ]
  },
  {
   "cell_type": "code",
   "execution_count": 6,
   "metadata": {
    "collapsed": false,
    "slideshow": {
     "slide_type": "slide"
    }
   },
   "outputs": [],
   "source": [
    "class_data = data[0::,2].astype(np.float)\n",
    "class_1_stats = class_data == 1\n",
    "class_2_stats = class_data == 2\n",
    "class_3_stats = class_data == 3"
   ]
  },
  {
   "cell_type": "code",
   "execution_count": 7,
   "metadata": {
    "collapsed": false,
    "slideshow": {
     "slide_type": "slide"
    }
   },
   "outputs": [
    {
     "name": "stdout",
     "output_type": "stream",
     "text": [
      "Proportion of class 1 who survived is 0.62962962963\n",
      "Proportion of class 2 who survived is 0.472826086957\n",
      "Proportion of class 3 who survived is 0.242362525458\n"
     ]
    }
   ],
   "source": [
    "class_1_onboard = data[class_1_stats,1].astype(np.float)     \n",
    "class_2_onboard = data[class_2_stats,1].astype(np.float)     \n",
    "class_3_onboard = data[class_3_stats,1].astype(np.float)     \n",
    "\n",
    "proportion_class_1_survived = \\\n",
    "                       np.sum(class_1_onboard) / np.size(class_1_onboard)  \n",
    "proportion_class_2_survived = \\\n",
    "                       np.sum(class_2_onboard) / np.size(class_2_onboard) \n",
    "proportion_class_3_survived = \\\n",
    "                       np.sum(class_3_onboard) / np.size(class_3_onboard) \n",
    "\n",
    "print 'Proportion of class 1 who survived is %s' % proportion_class_1_survived\n",
    "print 'Proportion of class 2 who survived is %s' % proportion_class_2_survived\n",
    "print 'Proportion of class 3 who survived is %s' % proportion_class_3_survived"
   ]
  },
  {
   "cell_type": "code",
   "execution_count": null,
   "metadata": {
    "collapsed": true,
    "slideshow": {
     "slide_type": "slide"
    }
   },
   "outputs": [],
   "source": []
  }
 ],
 "metadata": {
  "celltoolbar": "Slideshow",
  "kernelspec": {
   "display_name": "Python 2",
   "language": "python",
   "name": "python2"
  },
  "language_info": {
   "codemirror_mode": {
    "name": "ipython",
    "version": 2
   },
   "file_extension": ".py",
   "mimetype": "text/x-python",
   "name": "python",
   "nbconvert_exporter": "python",
   "pygments_lexer": "ipython2",
   "version": "2.7.10"
  }
 },
 "nbformat": 4,
 "nbformat_minor": 0
}
