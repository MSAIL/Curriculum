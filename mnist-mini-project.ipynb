{
 "cells": [
  {
   "cell_type": "markdown",
   "metadata": {
    "slideshow": {
     "slide_type": "slide"
    }
   },
   "source": [
    "# MSAIL Tutorial Series"
   ]
  },
  {
   "cell_type": "markdown",
   "metadata": {
    "slideshow": {
     "slide_type": "fragment"
    }
   },
   "source": [
    "## MNIST Mini-Project"
   ]
  },
  {
   "cell_type": "markdown",
   "metadata": {
    "slideshow": {
     "slide_type": "slide"
    }
   },
   "source": [
    "So far we have covered 4 supervised [classfication](https://github.com/MSAIL/Curriculum/blob/master/classification.ipynb) algorithms:\n",
    "* Logistic Regression\n",
    "* Support Vector Machines (SVM)\n",
    "* k Nearest Neighbors (kNN)\n",
    "* Naive Bayes\n",
    "\n",
    "Now let us apply these to a larger dataset, namely [MNIST](http://yann.lecun.com/exdb/mnist/). In the process we will observe how we can adapt these algorithms for multi-class rather than binary classification."
   ]
  },
  {
   "cell_type": "code",
   "execution_count": 1,
   "metadata": {
    "collapsed": false,
    "slideshow": {
     "slide_type": "slide"
    }
   },
   "outputs": [],
   "source": [
    "import numpy as np\n",
    "from sklearn.datasets import fetch_mldata\n",
    "\n",
    "%matplotlib inline\n",
    "import matplotlib\n",
    "import matplotlib.pyplot as plt"
   ]
  },
  {
   "cell_type": "code",
   "execution_count": 2,
   "metadata": {
    "collapsed": false,
    "slideshow": {
     "slide_type": "slide"
    }
   },
   "outputs": [],
   "source": [
    "mnist = fetch_mldata('MNIST original', data_home='/Users/nanddalal/tmp/')\n",
    "\n",
    "x = mnist.data\n",
    "y = mnist.target\n",
    "xy = np.c_[x,y]\n",
    "np.random.shuffle(xy)\n",
    "\n",
    "train_x = xy[0:1000, 0:784]\n",
    "train_y = xy[0:1000, -1]\n",
    "test_x = xy[1000:1100, 0:784]\n",
    "test_y = xy[1000:1100, -1]"
   ]
  },
  {
   "cell_type": "code",
   "execution_count": 3,
   "metadata": {
    "collapsed": true,
    "slideshow": {
     "slide_type": "slide"
    }
   },
   "outputs": [],
   "source": [
    "def train_and_test(model, xtrain, ytrain, xtest, ytest):\n",
    "    model = model.fit(xtrain, ytrain)\n",
    "    output = model.predict(xtest)\n",
    "    print (1.0 * sum([i==j for (i, j) in zip(output, ytest)])) / len(ytest)"
   ]
  },
  {
   "cell_type": "code",
   "execution_count": 4,
   "metadata": {
    "collapsed": false,
    "scrolled": true,
    "slideshow": {
     "slide_type": "slide"
    }
   },
   "outputs": [
    {
     "name": "stdout",
     "output_type": "stream",
     "text": [
      "1.0\n"
     ]
    },
    {
     "data": {
      "image/png": "[encoded data removed]",
      "text/plain": [
       "<matplotlib.figure.Figure at 0x1044d1910>"
      ]
     },
     "metadata": {},
     "output_type": "display_data"
    }
   ],
   "source": [
    "plt.imshow(train_x[0].reshape(28, 28))\n",
    "print train_y[0]"
   ]
  },
  {
   "cell_type": "markdown",
   "metadata": {
    "slideshow": {
     "slide_type": "slide"
    }
   },
   "source": [
    "### k Nearest Neighbors (kNN)"
   ]
  },
  {
   "cell_type": "code",
   "execution_count": 6,
   "metadata": {
    "collapsed": false,
    "slideshow": {
     "slide_type": "fragment"
    }
   },
   "outputs": [
    {
     "name": "stdout",
     "output_type": "stream",
     "text": [
      "0.91\n"
     ]
    }
   ],
   "source": [
    "import sklearn.neighbors\n",
    "model = sklearn.neighbors.KNeighborsClassifier(3, weights='distance')\n",
    "train_and_test(model, train_x, train_y, test_x, test_y)"
   ]
  },
  {
   "cell_type": "markdown",
   "metadata": {
    "slideshow": {
     "slide_type": "slide"
    }
   },
   "source": [
    "### Naive Bayes"
   ]
  },
  {
   "cell_type": "code",
   "execution_count": 7,
   "metadata": {
    "collapsed": false,
    "slideshow": {
     "slide_type": "fragment"
    }
   },
   "outputs": [
    {
     "name": "stdout",
     "output_type": "stream",
     "text": [
      "0.81\n"
     ]
    }
   ],
   "source": [
    "import sklearn.naive_bayes\n",
    "model = sklearn.naive_bayes.MultinomialNB()\n",
    "train_and_test(model, train_x, train_y, test_x, test_y)"
   ]
  },
  {
   "cell_type": "markdown",
   "metadata": {
    "slideshow": {
     "slide_type": "slide"
    }
   },
   "source": [
    "### Logistic Regression -> Softmax Regression"
   ]
  },
  {
   "cell_type": "code",
   "execution_count": 8,
   "metadata": {
    "collapsed": false,
    "slideshow": {
     "slide_type": "fragment"
    }
   },
   "outputs": [
    {
     "name": "stdout",
     "output_type": "stream",
     "text": [
      "0.83\n"
     ]
    }
   ],
   "source": [
    "import sklearn.linear_model\n",
    "model = sklearn.linear_model.LogisticRegression()\n",
    "train_and_test(model, train_x, train_y, test_x, test_y)"
   ]
  },
  {
   "cell_type": "markdown",
   "metadata": {
    "slideshow": {
     "slide_type": "slide"
    }
   },
   "source": [
    "### Support Vector Machines (SVM)"
   ]
  },
  {
   "cell_type": "code",
   "execution_count": 9,
   "metadata": {
    "collapsed": false,
    "slideshow": {
     "slide_type": "fragment"
    }
   },
   "outputs": [
    {
     "name": "stdout",
     "output_type": "stream",
     "text": [
      "0.82\n",
      "0.08\n"
     ]
    }
   ],
   "source": [
    "import sklearn.svm\n",
    "model = sklearn.svm.LinearSVC()\n",
    "train_and_test(model, train_x, train_y, test_x, test_y)\n",
    "model = sklearn.svm.SVC(kernel=\"rbf\")\n",
    "train_and_test(model, train_x, train_y, test_x, test_y)"
   ]
  },
  {
   "cell_type": "markdown",
   "metadata": {
    "slideshow": {
     "slide_type": "slide"
    }
   },
   "source": [
    "### Neural Networks"
   ]
  },
  {
   "cell_type": "markdown",
   "metadata": {},
   "source": [
    "<img src=\"https://upload.wikimedia.org/wikipedia/commons/4/46/Colored_neural_network.svg\" height=\"200\" width=\"200\">\n",
    "\n",
    "Let us quickly review [logistic regression](https://github.com/MSAIL/Curriculum/blob/master/classification.ipynb). Now we can think about neural networks as running several logistic regressions at the same time."
   ]
  },
  {
   "cell_type": "code",
   "execution_count": 10,
   "metadata": {
    "collapsed": true,
    "slideshow": {
     "slide_type": "slide"
    }
   },
   "outputs": [],
   "source": [
    "train_y_probs = np.zeros((1000, 10))\n",
    "for i in range(1000):\n",
    "    train_y_probs[i][int(train_y[i])] = 1.0"
   ]
  },
  {
   "cell_type": "code",
   "execution_count": 12,
   "metadata": {
    "collapsed": false,
    "slideshow": {
     "slide_type": "slide"
    }
   },
   "outputs": [],
   "source": [
    "class NeuralNetwork:\n",
    "    \n",
    "    def __init__(self):\n",
    "        self.weights = np.random.randn(784,10)\n",
    "        self.biases = np.random.randn(10)\n",
    "    \n",
    "    def softmax(self, x):\n",
    "        e_x = np.exp(x - np.max(x))\n",
    "        out = e_x / e_x.sum()\n",
    "        return out\n",
    "\n",
    "    def fit(self, train_x, train_y):        \n",
    "        for it in range(100):\n",
    "            if it % 100 == 0:\n",
    "                print \"Epoch\", it\n",
    "\n",
    "            for i in range(1000):\n",
    "                input_layer = train_x[i]\n",
    "                hidden_layer = np.dot(input_layer, self.weights) + self.biases\n",
    "                output_layer = self.softmax(hidden_layer)\n",
    "\n",
    "                grad = output_layer - train_y[i]\n",
    "\n",
    "                w_grad_hid = np.dot(input_layer.reshape(784,1), grad.reshape(1,10))\n",
    "                b_grad_hid = w_grad_hid.sum(axis=0)\n",
    "\n",
    "                self.weights -= w_grad_hid\n",
    "                self.biases -= b_grad_hid\n",
    "        \n",
    "        return self\n",
    "\n",
    "    def predict(self, test_x):\n",
    "        preds = np.zeros(100)\n",
    "        for i in range(100):\n",
    "            pred = self.softmax(np.dot(test_x[i], self.weights) + self.biases)\n",
    "            preds[i] = np.argmax(pred)\n",
    "        return preds\n",
    "    \n",
    "    def visualize(self):\n",
    "        for i in range(10):\n",
    "            plt.subplot(1, 10, i+1)\n",
    "            plt.axis('off')\n",
    "            plt.set_cmap('gray')\n",
    "            plt.imshow(model.weights[:,i].reshape(28, 28))"
   ]
  },
  {
   "cell_type": "code",
   "execution_count": 13,
   "metadata": {
    "collapsed": false
   },
   "outputs": [
    {
     "name": "stdout",
     "output_type": "stream",
     "text": [
      "Epoch 0\n",
      "0.92\n"
     ]
    }
   ],
   "source": [
    "model = NeuralNetwork()\n",
    "train_and_test(model, train_x, train_y_probs, test_x, test_y)"
   ]
  },
  {
   "cell_type": "code",
   "execution_count": 14,
   "metadata": {
    "collapsed": false
   },
   "outputs": [
    {
     "data": {
      "image/png": "[encoded data removed]",
      "text/plain": [
       "<matplotlib.figure.Figure at 0x1250e9710>"
      ]
     },
     "metadata": {},
     "output_type": "display_data"
    }
   ],
   "source": [
    "model.visualize()"
   ]
  },
  {
   "cell_type": "code",
   "execution_count": null,
   "metadata": {
    "collapsed": true
   },
   "outputs": [],
   "source": []
  }
 ],
 "metadata": {
  "celltoolbar": "Slideshow",
  "kernelspec": {
   "display_name": "Python 2",
   "language": "python",
   "name": "python2"
  },
  "language_info": {
   "codemirror_mode": {
    "name": "ipython",
    "version": 2
   },
   "file_extension": ".py",
   "mimetype": "text/x-python",
   "name": "python",
   "nbconvert_exporter": "python",
   "pygments_lexer": "ipython2",
   "version": "2.7.10"
  }
 },
 "nbformat": 4,
 "nbformat_minor": 0
}
